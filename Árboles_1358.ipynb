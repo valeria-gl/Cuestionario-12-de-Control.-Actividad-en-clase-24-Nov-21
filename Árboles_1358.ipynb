{
  "nbformat": 4,
  "nbformat_minor": 0,
  "metadata": {
    "colab": {
      "name": "Árboles_1358.ipynb",
      "provenance": [],
      "authorship_tag": "ABX9TyMzrWbEhcVKm76S0F4dUBQG",
      "include_colab_link": true
    },
    "kernelspec": {
      "name": "python3",
      "display_name": "Python 3"
    },
    "language_info": {
      "name": "python"
    }
  },
  "cells": [
    {
      "cell_type": "markdown",
      "metadata": {
        "id": "view-in-github",
        "colab_type": "text"
      },
      "source": [
        "<a href=\"https://colab.research.google.com/github/valeria-gl/Cuestionario-12-de-Control.-Actividad-en-clase-24-Nov-21/blob/main/%C3%81rboles_1358.ipynb\" target=\"_parent\"><img src=\"https://colab.research.google.com/assets/colab-badge.svg\" alt=\"Open In Colab\"/></a>"
      ]
    },
    {
      "cell_type": "code",
      "metadata": {
        "id": "eOJFskR-8MUO"
      },
      "source": [
        "class BinaryNode:\n",
        "  def __init__(self, value , left=None , rigth= None):\n",
        "    self.data = value\n",
        "    self.left = left\n",
        "    self.rigth = rigth"
      ],
      "execution_count": 20,
      "outputs": []
    },
    {
      "cell_type": "markdown",
      "metadata": {
        "id": "V2DMwZha_EkU"
      },
      "source": [
        ""
      ]
    },
    {
      "cell_type": "code",
      "metadata": {
        "id": "Wq6l5nFS9_UA"
      },
      "source": [
        "class TernaryNode:\n",
        "  def __init__(self, value , left=None , rigth= None,center= None):\n",
        "    self.data = value\n",
        "    self.left = left\n",
        "    self.center = center\n",
        "    self.rigth = rigth"
      ],
      "execution_count": 21,
      "outputs": []
    },
    {
      "cell_type": "code",
      "metadata": {
        "colab": {
          "base_uri": "https://localhost:8080/"
        },
        "id": "FDxrbxWL-BsW",
        "outputId": "84517a17-bf76-426c-f954-2d0e12dd278e"
      },
      "source": [
        "root = BinaryNode(\"R\",BinaryNode(\"C\"),BinaryNode(\"H\"))\n",
        "print( root.left.data )"
      ],
      "execution_count": 22,
      "outputs": [
        {
          "output_type": "stream",
          "name": "stdout",
          "text": [
            "C\n"
          ]
        }
      ]
    },
    {
      "cell_type": "code",
      "metadata": {
        "colab": {
          "base_uri": "https://localhost:8080/"
        },
        "id": "XMvEiWws-DEe",
        "outputId": "2c64f764-8b92-43cf-88a3-14285996caf6"
      },
      "source": [
        "root = TernaryNode(4,TernaryNode(3,TernaryNode(5,left=TernaryNode(2)),\\\n",
        "        TernaryNode(5),TernaryNode(2)), None, TernaryNode(5) ) \n",
        "print(root.left.left.left.data)\n",
        "print(\"-.-.-.-.-.-\")\n",
        "aux = root\n",
        "while aux.left != None :\n",
        "  aux = aux.left\n",
        "print(aux.data)\n",
        "print(\"-.-.-.-.-.-\")\n",
        "print(root.left.rigth.data)"
      ],
      "execution_count": 23,
      "outputs": [
        {
          "output_type": "stream",
          "name": "stdout",
          "text": [
            "2\n",
            "-.-.-.-.-.-\n",
            "2\n",
            "-.-.-.-.-.-\n",
            "5\n"
          ]
        }
      ]
    },
    {
      "cell_type": "code",
      "metadata": {
        "colab": {
          "base_uri": "https://localhost:8080/"
        },
        "id": "XJXjBUxP-kAg",
        "outputId": "bcdd3ea1-1a92-408c-ad6f-76fb52f06fc4"
      },
      "source": [
        "root = BinaryNode(\"Santiago\",None, BinaryNode( \"Jesús\",BinaryNode(\"Pedro\",None, BinaryNode(\"Pedro chico\"))))\n",
        "print( root.rigth.left.rigth.data )"
      ],
      "execution_count": 24,
      "outputs": [
        {
          "output_type": "stream",
          "name": "stdout",
          "text": [
            "Pedro chico\n"
          ]
        }
      ]
    }
  ]
}